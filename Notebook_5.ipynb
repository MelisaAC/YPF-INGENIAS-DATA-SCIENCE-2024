{
  "nbformat": 4,
  "nbformat_minor": 0,
  "metadata": {
    "kernelspec": {
      "display_name": "Python 3",
      "language": "python",
      "name": "python3"
    },
    "language_info": {
      "codemirror_mode": {
        "name": "ipython",
        "version": 3
      },
      "file_extension": ".py",
      "mimetype": "text/x-python",
      "name": "python",
      "nbconvert_exporter": "python",
      "pygments_lexer": "ipython3",
      "version": "3.7.3"
    },
    "colab": {
      "provenance": [],
      "include_colab_link": true
    }
  },
  "cells": [
    {
      "cell_type": "markdown",
      "metadata": {
        "id": "view-in-github",
        "colab_type": "text"
      },
      "source": [
        "<a href=\"https://colab.research.google.com/github/MelisaAC/YPF-INGENIAS-DATA-SCIENCE-2024/blob/main/Notebook_5.ipynb\" target=\"_parent\"><img src=\"https://colab.research.google.com/assets/colab-badge.svg\" alt=\"Open In Colab\"/></a>"
      ]
    },
    {
      "cell_type": "markdown",
      "metadata": {
        "id": "Gp2WddtV9IwG"
      },
      "source": [
        "# Programa Ingenias+ Data Science"
      ]
    },
    {
      "cell_type": "markdown",
      "metadata": {
        "id": "H4M1yVbf9IwH"
      },
      "source": [
        "Como dijimos en clases anteriores, Python tiene implementadas muchas librerias para poder trabajar con datos. En la clase de hoy trabajaremos con una de ellas: `Numpy`."
      ]
    },
    {
      "cell_type": "markdown",
      "metadata": {
        "id": "GdTT8WeL9IwI"
      },
      "source": [
        "Antes de comenzar, vamos a hablar un poco de esta libreria o modulo.\n",
        "\n",
        "**Numpy** es una librería optimizada para realizar cálculos numéricos con vectores y matrices. A diferencia de otros lenguajes de programación, Python no posee en su estructura central la figura de matrices. Eso quiere decir que para poder trabajar con esta estructura de datos deberiamos trabajar con listas de listas. NumPy introduce el concepto de arrays o matrices."
      ]
    },
    {
      "cell_type": "markdown",
      "metadata": {
        "id": "qWkq3EHK9IwK"
      },
      "source": [
        "Al ser de código abierto, `numpy` posee una documentación muy amplia que es **SIEMPRE RECOMENDABLE** consultar."
      ]
    },
    {
      "cell_type": "markdown",
      "metadata": {
        "id": "nxe3KLUO9IwL"
      },
      "source": [
        "- [Documentacion NumPy](https://devdocs.io/numpy/)"
      ]
    },
    {
      "cell_type": "markdown",
      "metadata": {
        "id": "l1Ay3nSs9IwN"
      },
      "source": [
        "## Clase 4: Introduccion a NumPy"
      ]
    },
    {
      "cell_type": "markdown",
      "metadata": {
        "id": "X03mviQS9IyL"
      },
      "source": [
        "# Ejercicios\n",
        "\n",
        "1. Crear un arreglo de ceros de longitud 12\n",
        "2. Crear un arreglo de longitud 10 con ceros en todas sus posiciones y un 10 en la posición número 5\n",
        "3. Crear un arreglo que tenga los números del 10 al 49\n",
        "4. Crear una arreglo 2d de shape (3, 3) que tenga los números del 0 al 8\n",
        "5. Crear un arreglo de números aleatorios de longitud 100 y obtener su media y varianza\n",
        "6. Calcular la media de un arreglo usando np.sum\n",
        "7. Calcular la varianza de un arreglo usando np.sum y np.mean\n",
        "8. Crear un array de números aleatorios usando np.random.randn.\n"
      ]
    },
    {
      "cell_type": "code",
      "source": [
        "import numpy as np"
      ],
      "metadata": {
        "id": "Bry0CXsDJo95"
      },
      "execution_count": 1,
      "outputs": []
    },
    {
      "cell_type": "code",
      "source": [
        "#Crear un arreglo de ceros de longitud 12\n",
        "array1=np.zeros(12)\n",
        "print(array1)"
      ],
      "metadata": {
        "id": "o9T4AKVhJ4DX",
        "outputId": "b501c7fe-6eba-46fb-df75-2afe507a0f67",
        "colab": {
          "base_uri": "https://localhost:8080/"
        }
      },
      "execution_count": 4,
      "outputs": [
        {
          "output_type": "stream",
          "name": "stdout",
          "text": [
            "[0. 0. 0. 0. 0. 0. 0. 0. 0. 0. 0. 0.]\n"
          ]
        }
      ]
    },
    {
      "cell_type": "code",
      "source": [
        "#Crear un arreglo de longitud 10 con ceros en todas sus posiciones y un 10 en la posición número 5\n",
        "array2=np.zeros(10)\n",
        "array2[4]=10\n",
        "print(array2)"
      ],
      "metadata": {
        "id": "MDLjXBWUVIge",
        "outputId": "93a14c3a-d515-4956-c513-71508495f787",
        "colab": {
          "base_uri": "https://localhost:8080/"
        }
      },
      "execution_count": 7,
      "outputs": [
        {
          "output_type": "stream",
          "name": "stdout",
          "text": [
            "[ 0.  0.  0.  0. 10.  0.  0.  0.  0.  0.]\n"
          ]
        }
      ]
    },
    {
      "cell_type": "code",
      "source": [
        "#Crear un arreglo que tenga los números del 10 al 49\n",
        "array3=np.arange(10,50)\n",
        "array3"
      ],
      "metadata": {
        "id": "CIQOyB_2V5Kj",
        "outputId": "a1635ece-f822-4709-b488-debb4344c610",
        "colab": {
          "base_uri": "https://localhost:8080/"
        }
      },
      "execution_count": 9,
      "outputs": [
        {
          "output_type": "execute_result",
          "data": {
            "text/plain": [
              "array([10, 11, 12, 13, 14, 15, 16, 17, 18, 19, 20, 21, 22, 23, 24, 25, 26,\n",
              "       27, 28, 29, 30, 31, 32, 33, 34, 35, 36, 37, 38, 39, 40, 41, 42, 43,\n",
              "       44, 45, 46, 47, 48, 49])"
            ]
          },
          "metadata": {},
          "execution_count": 9
        }
      ]
    },
    {
      "cell_type": "code",
      "source": [
        "#Crear una arreglo 2d de shape (3, 3) que tenga los números del 0 al 8\n",
        "array4=np.array (range(9)).reshape(3,3)\n",
        "print(array4)"
      ],
      "metadata": {
        "id": "w5zxcgBtWU97",
        "outputId": "7965d8d9-93f5-4abb-ffc8-0f1a23b06b70",
        "colab": {
          "base_uri": "https://localhost:8080/"
        }
      },
      "execution_count": 10,
      "outputs": [
        {
          "output_type": "stream",
          "name": "stdout",
          "text": [
            "[[0 1 2]\n",
            " [3 4 5]\n",
            " [6 7 8]]\n"
          ]
        }
      ]
    },
    {
      "cell_type": "code",
      "source": [
        "#Crear un arreglo de números aleatorios de longitud 100 y obtener su media y varianza\n",
        "array5=np.random.randint(1,100,100)\n",
        "print(array5)\n",
        "media=np.mean(array5)\n",
        "print(media)\n",
        "varianza=np.var(array5)\n",
        "print(varianza)"
      ],
      "metadata": {
        "id": "Xr00nsqCY4CC",
        "outputId": "aa3b3f23-0e7e-46ff-91c0-d3c1b78e50c9",
        "colab": {
          "base_uri": "https://localhost:8080/"
        }
      },
      "execution_count": 16,
      "outputs": [
        {
          "output_type": "stream",
          "name": "stdout",
          "text": [
            "[40 60 66 49 82 79 86 49 64 37 33 48 91 44 37 62  7 69 47 10  3 15 79 72\n",
            " 97 40 33 36  5 64 86 79 97 90 37  9 34 70 71 69 61 90  4 52 24 92 70  2\n",
            "  9 89 26 70 77 50 51 63 13 53 38  7 51 40 37 77  6 96  4 75 57 88 30 22\n",
            " 78  5 18 57 67 38 91 39 23 12 93 83 89 68  4 84 39 60 91 57 75 35 41 57\n",
            " 38 75 10  4]\n",
            "51.01\n",
            "807.1498999999999\n"
          ]
        }
      ]
    },
    {
      "cell_type": "code",
      "source": [
        "#Calcular la media de un arreglo usando np.sum\n",
        "array5.sum()/array5.size"
      ],
      "metadata": {
        "id": "gmCzQnzGa2tP",
        "outputId": "63bfa123-396e-4e4a-8525-60ae537a0865",
        "colab": {
          "base_uri": "https://localhost:8080/"
        }
      },
      "execution_count": 18,
      "outputs": [
        {
          "output_type": "execute_result",
          "data": {
            "text/plain": [
              "51.01"
            ]
          },
          "metadata": {},
          "execution_count": 18
        }
      ]
    },
    {
      "cell_type": "code",
      "source": [
        "#Calcular la varianza de un arreglo usando np.sum y np.mean\n"
      ],
      "metadata": {
        "id": "253Q7IwNbago"
      },
      "execution_count": null,
      "outputs": []
    },
    {
      "cell_type": "code",
      "source": [
        "#Crear un array de números aleatorios usando np.random.randn\n",
        "array6=np.random.randn (10)\n",
        "print(array6)"
      ],
      "metadata": {
        "id": "0nESckneb_3r",
        "outputId": "98b696b8-0711-4437-b11f-24cf20b9c20b",
        "colab": {
          "base_uri": "https://localhost:8080/"
        }
      },
      "execution_count": 19,
      "outputs": [
        {
          "output_type": "stream",
          "name": "stdout",
          "text": [
            "[-0.49577959 -0.31797629 -0.01656275  0.67771429 -2.52946973  0.12244925\n",
            " -1.65046816 -0.65259683  1.10401745 -0.44954283]\n"
          ]
        }
      ]
    },
    {
      "cell_type": "markdown",
      "source": [],
      "metadata": {
        "id": "e5eSmT35JlVA"
      }
    }
  ]
}