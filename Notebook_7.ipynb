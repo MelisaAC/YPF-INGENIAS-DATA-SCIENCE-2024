{
  "nbformat": 4,
  "nbformat_minor": 0,
  "metadata": {
    "colab": {
      "provenance": [],
      "include_colab_link": true
    },
    "language_info": {
      "codemirror_mode": {
        "name": "ipython",
        "version": 3
      },
      "file_extension": ".py",
      "mimetype": "text/x-python",
      "name": "python",
      "nbconvert_exporter": "python",
      "pygments_lexer": "ipython3",
      "version": "3.6.6"
    },
    "kernelspec": {
      "display_name": "Python 3",
      "language": "python",
      "name": "python3"
    }
  },
  "cells": [
    {
      "cell_type": "markdown",
      "metadata": {
        "id": "view-in-github",
        "colab_type": "text"
      },
      "source": [
        "<a href=\"https://colab.research.google.com/github/MelisaAC/YPF-INGENIAS-DATA-SCIENCE-2024/blob/main/Notebook_7.ipynb\" target=\"_parent\"><img src=\"https://colab.research.google.com/assets/colab-badge.svg\" alt=\"Open In Colab\"/></a>"
      ]
    },
    {
      "cell_type": "markdown",
      "metadata": {
        "id": "4CoLDDN0Scje"
      },
      "source": [
        "## Programa Ingenias+ Data Science"
      ]
    },
    {
      "cell_type": "markdown",
      "metadata": {
        "id": "Rkizi-vlScjg"
      },
      "source": [
        "## Trabajando con Pandas"
      ]
    },
    {
      "cell_type": "markdown",
      "metadata": {
        "id": "VRd6Ow_aScjg"
      },
      "source": [
        "1) Importa las librerias requeridas: `Pandas` y `NumPy`.  \n",
        "\n",
        "Una buena practica a la hora de escribir codigo es de comentar siempre que estoy haciendo (usando `#`) en la linea anterior. Por mas obvio que parezca lo que voy a hacer, puede ser que tenga que compartir el documento con otras personas y no sepan que quise hacer en cada linea. O que yo mismo lea el codigo tiempo despues y no recuerde porque lo hice."
      ]
    },
    {
      "cell_type": "code",
      "metadata": {
        "id": "Anvt8yoSScji"
      },
      "source": [
        "import numpy as np\n",
        "import pandas as pd"
      ],
      "execution_count": 1,
      "outputs": []
    },
    {
      "cell_type": "markdown",
      "metadata": {
        "id": "5YWvHd--Scjl"
      },
      "source": [
        "2) Lee el archivo csv `life_expectancy_data` usando `pandas`. Guardalo en una variable llamada `expvida`."
      ]
    },
    {
      "cell_type": "code",
      "metadata": {
        "id": "oM1b7mmxScjm"
      },
      "source": [
        "# Leo los datos en un DataFrame\n",
        "expvida=pd.read_csv('BBDD_EDV.csv',delimiter=',')"
      ],
      "execution_count": 5,
      "outputs": []
    },
    {
      "cell_type": "markdown",
      "metadata": {
        "id": "-a1OoVvIScjp"
      },
      "source": [
        "3) ¿Que tipo de estructura de datos contiene la variable `expvida`?"
      ]
    },
    {
      "cell_type": "code",
      "metadata": {
        "id": "7R6g46UGScjp",
        "colab": {
          "base_uri": "https://localhost:8080/",
          "height": 204
        },
        "outputId": "0cceb677-eecc-4c8b-e54a-46157f9104fd"
      },
      "source": [
        "# Obtengo el tipo de estructura de datos\n",
        "type(expvida)"
      ],
      "execution_count": 6,
      "outputs": [
        {
          "output_type": "execute_result",
          "data": {
            "text/plain": [
              "pandas.core.frame.DataFrame"
            ],
            "text/html": [
              "<div style=\"max-width:800px; border: 1px solid var(--colab-border-color);\"><style>\n",
              "      pre.function-repr-contents {\n",
              "        overflow-x: auto;\n",
              "        padding: 8px 12px;\n",
              "        max-height: 500px;\n",
              "      }\n",
              "\n",
              "      pre.function-repr-contents.function-repr-contents-collapsed {\n",
              "        cursor: pointer;\n",
              "        max-height: 100px;\n",
              "      }\n",
              "    </style>\n",
              "    <pre style=\"white-space: initial; background:\n",
              "         var(--colab-secondary-surface-color); padding: 8px 12px;\n",
              "         border-bottom: 1px solid var(--colab-border-color);\"><b>pandas.core.frame.DataFrame</b><br/>def __init__(data=None, index: Axes | None=None, columns: Axes | None=None, dtype: Dtype | None=None, copy: bool | None=None) -&gt; None</pre><pre class=\"function-repr-contents function-repr-contents-collapsed\" style=\"\"><a class=\"filepath\" style=\"display:none\" href=\"#\">/usr/local/lib/python3.10/dist-packages/pandas/core/frame.py</a>Two-dimensional, size-mutable, potentially heterogeneous tabular data.\n",
              "\n",
              "Data structure also contains labeled axes (rows and columns).\n",
              "Arithmetic operations align on both row and column labels. Can be\n",
              "thought of as a dict-like container for Series objects. The primary\n",
              "pandas data structure.\n",
              "\n",
              "Parameters\n",
              "----------\n",
              "data : ndarray (structured or homogeneous), Iterable, dict, or DataFrame\n",
              "    Dict can contain Series, arrays, constants, dataclass or list-like objects. If\n",
              "    data is a dict, column order follows insertion-order. If a dict contains Series\n",
              "    which have an index defined, it is aligned by its index. This alignment also\n",
              "    occurs if data is a Series or a DataFrame itself. Alignment is done on\n",
              "    Series/DataFrame inputs.\n",
              "\n",
              "    If data is a list of dicts, column order follows insertion-order.\n",
              "\n",
              "index : Index or array-like\n",
              "    Index to use for resulting frame. Will default to RangeIndex if\n",
              "    no indexing information part of input data and no index provided.\n",
              "columns : Index or array-like\n",
              "    Column labels to use for resulting frame when data does not have them,\n",
              "    defaulting to RangeIndex(0, 1, 2, ..., n). If data contains column labels,\n",
              "    will perform column selection instead.\n",
              "dtype : dtype, default None\n",
              "    Data type to force. Only a single dtype is allowed. If None, infer.\n",
              "copy : bool or None, default None\n",
              "    Copy data from inputs.\n",
              "    For dict data, the default of None behaves like ``copy=True``.  For DataFrame\n",
              "    or 2d ndarray input, the default of None behaves like ``copy=False``.\n",
              "    If data is a dict containing one or more Series (possibly of different dtypes),\n",
              "    ``copy=False`` will ensure that these inputs are not copied.\n",
              "\n",
              "    .. versionchanged:: 1.3.0\n",
              "\n",
              "See Also\n",
              "--------\n",
              "DataFrame.from_records : Constructor from tuples, also record arrays.\n",
              "DataFrame.from_dict : From dicts of Series, arrays, or dicts.\n",
              "read_csv : Read a comma-separated values (csv) file into DataFrame.\n",
              "read_table : Read general delimited file into DataFrame.\n",
              "read_clipboard : Read text from clipboard into DataFrame.\n",
              "\n",
              "Notes\n",
              "-----\n",
              "Please reference the :ref:`User Guide &lt;basics.dataframe&gt;` for more information.\n",
              "\n",
              "Examples\n",
              "--------\n",
              "Constructing DataFrame from a dictionary.\n",
              "\n",
              "&gt;&gt;&gt; d = {&#x27;col1&#x27;: [1, 2], &#x27;col2&#x27;: [3, 4]}\n",
              "&gt;&gt;&gt; df = pd.DataFrame(data=d)\n",
              "&gt;&gt;&gt; df\n",
              "   col1  col2\n",
              "0     1     3\n",
              "1     2     4\n",
              "\n",
              "Notice that the inferred dtype is int64.\n",
              "\n",
              "&gt;&gt;&gt; df.dtypes\n",
              "col1    int64\n",
              "col2    int64\n",
              "dtype: object\n",
              "\n",
              "To enforce a single dtype:\n",
              "\n",
              "&gt;&gt;&gt; df = pd.DataFrame(data=d, dtype=np.int8)\n",
              "&gt;&gt;&gt; df.dtypes\n",
              "col1    int8\n",
              "col2    int8\n",
              "dtype: object\n",
              "\n",
              "Constructing DataFrame from a dictionary including Series:\n",
              "\n",
              "&gt;&gt;&gt; d = {&#x27;col1&#x27;: [0, 1, 2, 3], &#x27;col2&#x27;: pd.Series([2, 3], index=[2, 3])}\n",
              "&gt;&gt;&gt; pd.DataFrame(data=d, index=[0, 1, 2, 3])\n",
              "   col1  col2\n",
              "0     0   NaN\n",
              "1     1   NaN\n",
              "2     2   2.0\n",
              "3     3   3.0\n",
              "\n",
              "Constructing DataFrame from numpy ndarray:\n",
              "\n",
              "&gt;&gt;&gt; df2 = pd.DataFrame(np.array([[1, 2, 3], [4, 5, 6], [7, 8, 9]]),\n",
              "...                    columns=[&#x27;a&#x27;, &#x27;b&#x27;, &#x27;c&#x27;])\n",
              "&gt;&gt;&gt; df2\n",
              "   a  b  c\n",
              "0  1  2  3\n",
              "1  4  5  6\n",
              "2  7  8  9\n",
              "\n",
              "Constructing DataFrame from a numpy ndarray that has labeled columns:\n",
              "\n",
              "&gt;&gt;&gt; data = np.array([(1, 2, 3), (4, 5, 6), (7, 8, 9)],\n",
              "...                 dtype=[(&quot;a&quot;, &quot;i4&quot;), (&quot;b&quot;, &quot;i4&quot;), (&quot;c&quot;, &quot;i4&quot;)])\n",
              "&gt;&gt;&gt; df3 = pd.DataFrame(data, columns=[&#x27;c&#x27;, &#x27;a&#x27;])\n",
              "...\n",
              "&gt;&gt;&gt; df3\n",
              "   c  a\n",
              "0  3  1\n",
              "1  6  4\n",
              "2  9  7\n",
              "\n",
              "Constructing DataFrame from dataclass:\n",
              "\n",
              "&gt;&gt;&gt; from dataclasses import make_dataclass\n",
              "&gt;&gt;&gt; Point = make_dataclass(&quot;Point&quot;, [(&quot;x&quot;, int), (&quot;y&quot;, int)])\n",
              "&gt;&gt;&gt; pd.DataFrame([Point(0, 0), Point(0, 3), Point(2, 3)])\n",
              "   x  y\n",
              "0  0  0\n",
              "1  0  3\n",
              "2  2  3\n",
              "\n",
              "Constructing DataFrame from Series/DataFrame:\n",
              "\n",
              "&gt;&gt;&gt; ser = pd.Series([1, 2, 3], index=[&quot;a&quot;, &quot;b&quot;, &quot;c&quot;])\n",
              "&gt;&gt;&gt; df = pd.DataFrame(data=ser, index=[&quot;a&quot;, &quot;c&quot;])\n",
              "&gt;&gt;&gt; df\n",
              "   0\n",
              "a  1\n",
              "c  3\n",
              "\n",
              "&gt;&gt;&gt; df1 = pd.DataFrame([1, 2, 3], index=[&quot;a&quot;, &quot;b&quot;, &quot;c&quot;], columns=[&quot;x&quot;])\n",
              "&gt;&gt;&gt; df2 = pd.DataFrame(data=df1, index=[&quot;a&quot;, &quot;c&quot;])\n",
              "&gt;&gt;&gt; df2\n",
              "   x\n",
              "a  1\n",
              "c  3</pre>\n",
              "      <script>\n",
              "      if (google.colab.kernel.accessAllowed && google.colab.files && google.colab.files.view) {\n",
              "        for (const element of document.querySelectorAll('.filepath')) {\n",
              "          element.style.display = 'block'\n",
              "          element.onclick = (event) => {\n",
              "            event.preventDefault();\n",
              "            event.stopPropagation();\n",
              "            google.colab.files.view(element.textContent, 490);\n",
              "          };\n",
              "        }\n",
              "      }\n",
              "      for (const element of document.querySelectorAll('.function-repr-contents')) {\n",
              "        element.onclick = (event) => {\n",
              "          event.preventDefault();\n",
              "          event.stopPropagation();\n",
              "          element.classList.toggle('function-repr-contents-collapsed');\n",
              "        };\n",
              "      }\n",
              "      </script>\n",
              "      </div>"
            ]
          },
          "metadata": {},
          "execution_count": 6
        }
      ]
    },
    {
      "cell_type": "markdown",
      "metadata": {
        "id": "EBwmuoKKScjv"
      },
      "source": [
        "4) ¿Cuantas filas y columnas tiene `expvida`?"
      ]
    },
    {
      "cell_type": "code",
      "metadata": {
        "id": "1oKt4xZmScjw",
        "colab": {
          "base_uri": "https://localhost:8080/"
        },
        "outputId": "5f9cf2d3-35fe-4dc6-a3ea-be030d115cde"
      },
      "source": [
        "# Uso .shape para obtener cantidad de filas y columnas\n",
        "expvida.shape"
      ],
      "execution_count": 8,
      "outputs": [
        {
          "output_type": "execute_result",
          "data": {
            "text/plain": [
              "(2938, 22)"
            ]
          },
          "metadata": {},
          "execution_count": 8
        }
      ]
    },
    {
      "cell_type": "markdown",
      "metadata": {
        "id": "V3cNAjIIScj1"
      },
      "source": [
        "5) ¿Cual es el nombre de las columnas contenidas en `expvida`?"
      ]
    },
    {
      "cell_type": "code",
      "metadata": {
        "id": "Cr61t2ALScj2",
        "colab": {
          "base_uri": "https://localhost:8080/"
        },
        "outputId": "01acd9d4-2685-432c-d64a-fdca164aa7b2"
      },
      "source": [
        "# Obtengo el nombre de las columnas\n",
        "expvida.columns"
      ],
      "execution_count": 9,
      "outputs": [
        {
          "output_type": "execute_result",
          "data": {
            "text/plain": [
              "Index(['Country', 'Year', 'Status', 'Life expectancy ', 'Adult Mortality',\n",
              "       'infant deaths', 'Alcohol', 'percentage expenditure', 'Hepatitis B',\n",
              "       'Measles ', ' BMI ', 'under-five deaths ', 'Polio', 'Total expenditure',\n",
              "       'Diphtheria ', ' HIV/AIDS', 'GDP', 'Population',\n",
              "       ' thinness  1-19 years', ' thinness 5-9 years',\n",
              "       'Income composition of resources', 'Schooling'],\n",
              "      dtype='object')"
            ]
          },
          "metadata": {},
          "execution_count": 9
        }
      ]
    },
    {
      "cell_type": "markdown",
      "metadata": {
        "id": "xbXCaw0mScj5"
      },
      "source": [
        "6) Inspecciona las primeras 10 filas de `expvida`"
      ]
    },
    {
      "cell_type": "code",
      "metadata": {
        "id": "WSUs6-wmScj6",
        "colab": {
          "base_uri": "https://localhost:8080/",
          "height": 245
        },
        "outputId": "34c96baa-5c10-4e68-fd01-4968d3892617"
      },
      "source": [
        "# Inspecciono las primeras filas\n",
        "expvida.head(3)"
      ],
      "execution_count": 10,
      "outputs": [
        {
          "output_type": "execute_result",
          "data": {
            "text/plain": [
              "       Country  Year      Status  Life expectancy   Adult Mortality  \\\n",
              "0  Afghanistan  2015  Developing              65.0            263.0   \n",
              "1  Afghanistan  2014  Developing              59.9            271.0   \n",
              "2  Afghanistan  2013  Developing              59.9            268.0   \n",
              "\n",
              "   infant deaths  Alcohol  percentage expenditure  Hepatitis B  Measles   ...  \\\n",
              "0             62     0.01               71.279624         65.0      1154  ...   \n",
              "1             64     0.01               73.523582         62.0       492  ...   \n",
              "2             66     0.01               73.219243         64.0       430  ...   \n",
              "\n",
              "   Polio  Total expenditure  Diphtheria    HIV/AIDS         GDP  Population  \\\n",
              "0    6.0               8.16         65.0        0.1  584.259210  33736494.0   \n",
              "1   58.0               8.18         62.0        0.1  612.696514    327582.0   \n",
              "2   62.0               8.13         64.0        0.1  631.744976  31731688.0   \n",
              "\n",
              "    thinness  1-19 years   thinness 5-9 years  \\\n",
              "0                   17.2                 17.3   \n",
              "1                   17.5                 17.5   \n",
              "2                   17.7                 17.7   \n",
              "\n",
              "   Income composition of resources  Schooling  \n",
              "0                            0.479       10.1  \n",
              "1                            0.476       10.0  \n",
              "2                            0.470        9.9  \n",
              "\n",
              "[3 rows x 22 columns]"
            ],
            "text/html": [
              "\n",
              "  <div id=\"df-08a94a2a-c084-4e27-a006-752a4e4b89bc\" class=\"colab-df-container\">\n",
              "    <div>\n",
              "<style scoped>\n",
              "    .dataframe tbody tr th:only-of-type {\n",
              "        vertical-align: middle;\n",
              "    }\n",
              "\n",
              "    .dataframe tbody tr th {\n",
              "        vertical-align: top;\n",
              "    }\n",
              "\n",
              "    .dataframe thead th {\n",
              "        text-align: right;\n",
              "    }\n",
              "</style>\n",
              "<table border=\"1\" class=\"dataframe\">\n",
              "  <thead>\n",
              "    <tr style=\"text-align: right;\">\n",
              "      <th></th>\n",
              "      <th>Country</th>\n",
              "      <th>Year</th>\n",
              "      <th>Status</th>\n",
              "      <th>Life expectancy</th>\n",
              "      <th>Adult Mortality</th>\n",
              "      <th>infant deaths</th>\n",
              "      <th>Alcohol</th>\n",
              "      <th>percentage expenditure</th>\n",
              "      <th>Hepatitis B</th>\n",
              "      <th>Measles</th>\n",
              "      <th>...</th>\n",
              "      <th>Polio</th>\n",
              "      <th>Total expenditure</th>\n",
              "      <th>Diphtheria</th>\n",
              "      <th>HIV/AIDS</th>\n",
              "      <th>GDP</th>\n",
              "      <th>Population</th>\n",
              "      <th>thinness  1-19 years</th>\n",
              "      <th>thinness 5-9 years</th>\n",
              "      <th>Income composition of resources</th>\n",
              "      <th>Schooling</th>\n",
              "    </tr>\n",
              "  </thead>\n",
              "  <tbody>\n",
              "    <tr>\n",
              "      <th>0</th>\n",
              "      <td>Afghanistan</td>\n",
              "      <td>2015</td>\n",
              "      <td>Developing</td>\n",
              "      <td>65.0</td>\n",
              "      <td>263.0</td>\n",
              "      <td>62</td>\n",
              "      <td>0.01</td>\n",
              "      <td>71.279624</td>\n",
              "      <td>65.0</td>\n",
              "      <td>1154</td>\n",
              "      <td>...</td>\n",
              "      <td>6.0</td>\n",
              "      <td>8.16</td>\n",
              "      <td>65.0</td>\n",
              "      <td>0.1</td>\n",
              "      <td>584.259210</td>\n",
              "      <td>33736494.0</td>\n",
              "      <td>17.2</td>\n",
              "      <td>17.3</td>\n",
              "      <td>0.479</td>\n",
              "      <td>10.1</td>\n",
              "    </tr>\n",
              "    <tr>\n",
              "      <th>1</th>\n",
              "      <td>Afghanistan</td>\n",
              "      <td>2014</td>\n",
              "      <td>Developing</td>\n",
              "      <td>59.9</td>\n",
              "      <td>271.0</td>\n",
              "      <td>64</td>\n",
              "      <td>0.01</td>\n",
              "      <td>73.523582</td>\n",
              "      <td>62.0</td>\n",
              "      <td>492</td>\n",
              "      <td>...</td>\n",
              "      <td>58.0</td>\n",
              "      <td>8.18</td>\n",
              "      <td>62.0</td>\n",
              "      <td>0.1</td>\n",
              "      <td>612.696514</td>\n",
              "      <td>327582.0</td>\n",
              "      <td>17.5</td>\n",
              "      <td>17.5</td>\n",
              "      <td>0.476</td>\n",
              "      <td>10.0</td>\n",
              "    </tr>\n",
              "    <tr>\n",
              "      <th>2</th>\n",
              "      <td>Afghanistan</td>\n",
              "      <td>2013</td>\n",
              "      <td>Developing</td>\n",
              "      <td>59.9</td>\n",
              "      <td>268.0</td>\n",
              "      <td>66</td>\n",
              "      <td>0.01</td>\n",
              "      <td>73.219243</td>\n",
              "      <td>64.0</td>\n",
              "      <td>430</td>\n",
              "      <td>...</td>\n",
              "      <td>62.0</td>\n",
              "      <td>8.13</td>\n",
              "      <td>64.0</td>\n",
              "      <td>0.1</td>\n",
              "      <td>631.744976</td>\n",
              "      <td>31731688.0</td>\n",
              "      <td>17.7</td>\n",
              "      <td>17.7</td>\n",
              "      <td>0.470</td>\n",
              "      <td>9.9</td>\n",
              "    </tr>\n",
              "  </tbody>\n",
              "</table>\n",
              "<p>3 rows × 22 columns</p>\n",
              "</div>\n",
              "    <div class=\"colab-df-buttons\">\n",
              "\n",
              "  <div class=\"colab-df-container\">\n",
              "    <button class=\"colab-df-convert\" onclick=\"convertToInteractive('df-08a94a2a-c084-4e27-a006-752a4e4b89bc')\"\n",
              "            title=\"Convert this dataframe to an interactive table.\"\n",
              "            style=\"display:none;\">\n",
              "\n",
              "  <svg xmlns=\"http://www.w3.org/2000/svg\" height=\"24px\" viewBox=\"0 -960 960 960\">\n",
              "    <path d=\"M120-120v-720h720v720H120Zm60-500h600v-160H180v160Zm220 220h160v-160H400v160Zm0 220h160v-160H400v160ZM180-400h160v-160H180v160Zm440 0h160v-160H620v160ZM180-180h160v-160H180v160Zm440 0h160v-160H620v160Z\"/>\n",
              "  </svg>\n",
              "    </button>\n",
              "\n",
              "  <style>\n",
              "    .colab-df-container {\n",
              "      display:flex;\n",
              "      gap: 12px;\n",
              "    }\n",
              "\n",
              "    .colab-df-convert {\n",
              "      background-color: #E8F0FE;\n",
              "      border: none;\n",
              "      border-radius: 50%;\n",
              "      cursor: pointer;\n",
              "      display: none;\n",
              "      fill: #1967D2;\n",
              "      height: 32px;\n",
              "      padding: 0 0 0 0;\n",
              "      width: 32px;\n",
              "    }\n",
              "\n",
              "    .colab-df-convert:hover {\n",
              "      background-color: #E2EBFA;\n",
              "      box-shadow: 0px 1px 2px rgba(60, 64, 67, 0.3), 0px 1px 3px 1px rgba(60, 64, 67, 0.15);\n",
              "      fill: #174EA6;\n",
              "    }\n",
              "\n",
              "    .colab-df-buttons div {\n",
              "      margin-bottom: 4px;\n",
              "    }\n",
              "\n",
              "    [theme=dark] .colab-df-convert {\n",
              "      background-color: #3B4455;\n",
              "      fill: #D2E3FC;\n",
              "    }\n",
              "\n",
              "    [theme=dark] .colab-df-convert:hover {\n",
              "      background-color: #434B5C;\n",
              "      box-shadow: 0px 1px 3px 1px rgba(0, 0, 0, 0.15);\n",
              "      filter: drop-shadow(0px 1px 2px rgba(0, 0, 0, 0.3));\n",
              "      fill: #FFFFFF;\n",
              "    }\n",
              "  </style>\n",
              "\n",
              "    <script>\n",
              "      const buttonEl =\n",
              "        document.querySelector('#df-08a94a2a-c084-4e27-a006-752a4e4b89bc button.colab-df-convert');\n",
              "      buttonEl.style.display =\n",
              "        google.colab.kernel.accessAllowed ? 'block' : 'none';\n",
              "\n",
              "      async function convertToInteractive(key) {\n",
              "        const element = document.querySelector('#df-08a94a2a-c084-4e27-a006-752a4e4b89bc');\n",
              "        const dataTable =\n",
              "          await google.colab.kernel.invokeFunction('convertToInteractive',\n",
              "                                                    [key], {});\n",
              "        if (!dataTable) return;\n",
              "\n",
              "        const docLinkHtml = 'Like what you see? Visit the ' +\n",
              "          '<a target=\"_blank\" href=https://colab.research.google.com/notebooks/data_table.ipynb>data table notebook</a>'\n",
              "          + ' to learn more about interactive tables.';\n",
              "        element.innerHTML = '';\n",
              "        dataTable['output_type'] = 'display_data';\n",
              "        await google.colab.output.renderOutput(dataTable, element);\n",
              "        const docLink = document.createElement('div');\n",
              "        docLink.innerHTML = docLinkHtml;\n",
              "        element.appendChild(docLink);\n",
              "      }\n",
              "    </script>\n",
              "  </div>\n",
              "\n",
              "\n",
              "<div id=\"df-a1313361-a84e-4917-b829-f8c863f445b7\">\n",
              "  <button class=\"colab-df-quickchart\" onclick=\"quickchart('df-a1313361-a84e-4917-b829-f8c863f445b7')\"\n",
              "            title=\"Suggest charts\"\n",
              "            style=\"display:none;\">\n",
              "\n",
              "<svg xmlns=\"http://www.w3.org/2000/svg\" height=\"24px\"viewBox=\"0 0 24 24\"\n",
              "     width=\"24px\">\n",
              "    <g>\n",
              "        <path d=\"M19 3H5c-1.1 0-2 .9-2 2v14c0 1.1.9 2 2 2h14c1.1 0 2-.9 2-2V5c0-1.1-.9-2-2-2zM9 17H7v-7h2v7zm4 0h-2V7h2v10zm4 0h-2v-4h2v4z\"/>\n",
              "    </g>\n",
              "</svg>\n",
              "  </button>\n",
              "\n",
              "<style>\n",
              "  .colab-df-quickchart {\n",
              "      --bg-color: #E8F0FE;\n",
              "      --fill-color: #1967D2;\n",
              "      --hover-bg-color: #E2EBFA;\n",
              "      --hover-fill-color: #174EA6;\n",
              "      --disabled-fill-color: #AAA;\n",
              "      --disabled-bg-color: #DDD;\n",
              "  }\n",
              "\n",
              "  [theme=dark] .colab-df-quickchart {\n",
              "      --bg-color: #3B4455;\n",
              "      --fill-color: #D2E3FC;\n",
              "      --hover-bg-color: #434B5C;\n",
              "      --hover-fill-color: #FFFFFF;\n",
              "      --disabled-bg-color: #3B4455;\n",
              "      --disabled-fill-color: #666;\n",
              "  }\n",
              "\n",
              "  .colab-df-quickchart {\n",
              "    background-color: var(--bg-color);\n",
              "    border: none;\n",
              "    border-radius: 50%;\n",
              "    cursor: pointer;\n",
              "    display: none;\n",
              "    fill: var(--fill-color);\n",
              "    height: 32px;\n",
              "    padding: 0;\n",
              "    width: 32px;\n",
              "  }\n",
              "\n",
              "  .colab-df-quickchart:hover {\n",
              "    background-color: var(--hover-bg-color);\n",
              "    box-shadow: 0 1px 2px rgba(60, 64, 67, 0.3), 0 1px 3px 1px rgba(60, 64, 67, 0.15);\n",
              "    fill: var(--button-hover-fill-color);\n",
              "  }\n",
              "\n",
              "  .colab-df-quickchart-complete:disabled,\n",
              "  .colab-df-quickchart-complete:disabled:hover {\n",
              "    background-color: var(--disabled-bg-color);\n",
              "    fill: var(--disabled-fill-color);\n",
              "    box-shadow: none;\n",
              "  }\n",
              "\n",
              "  .colab-df-spinner {\n",
              "    border: 2px solid var(--fill-color);\n",
              "    border-color: transparent;\n",
              "    border-bottom-color: var(--fill-color);\n",
              "    animation:\n",
              "      spin 1s steps(1) infinite;\n",
              "  }\n",
              "\n",
              "  @keyframes spin {\n",
              "    0% {\n",
              "      border-color: transparent;\n",
              "      border-bottom-color: var(--fill-color);\n",
              "      border-left-color: var(--fill-color);\n",
              "    }\n",
              "    20% {\n",
              "      border-color: transparent;\n",
              "      border-left-color: var(--fill-color);\n",
              "      border-top-color: var(--fill-color);\n",
              "    }\n",
              "    30% {\n",
              "      border-color: transparent;\n",
              "      border-left-color: var(--fill-color);\n",
              "      border-top-color: var(--fill-color);\n",
              "      border-right-color: var(--fill-color);\n",
              "    }\n",
              "    40% {\n",
              "      border-color: transparent;\n",
              "      border-right-color: var(--fill-color);\n",
              "      border-top-color: var(--fill-color);\n",
              "    }\n",
              "    60% {\n",
              "      border-color: transparent;\n",
              "      border-right-color: var(--fill-color);\n",
              "    }\n",
              "    80% {\n",
              "      border-color: transparent;\n",
              "      border-right-color: var(--fill-color);\n",
              "      border-bottom-color: var(--fill-color);\n",
              "    }\n",
              "    90% {\n",
              "      border-color: transparent;\n",
              "      border-bottom-color: var(--fill-color);\n",
              "    }\n",
              "  }\n",
              "</style>\n",
              "\n",
              "  <script>\n",
              "    async function quickchart(key) {\n",
              "      const quickchartButtonEl =\n",
              "        document.querySelector('#' + key + ' button');\n",
              "      quickchartButtonEl.disabled = true;  // To prevent multiple clicks.\n",
              "      quickchartButtonEl.classList.add('colab-df-spinner');\n",
              "      try {\n",
              "        const charts = await google.colab.kernel.invokeFunction(\n",
              "            'suggestCharts', [key], {});\n",
              "      } catch (error) {\n",
              "        console.error('Error during call to suggestCharts:', error);\n",
              "      }\n",
              "      quickchartButtonEl.classList.remove('colab-df-spinner');\n",
              "      quickchartButtonEl.classList.add('colab-df-quickchart-complete');\n",
              "    }\n",
              "    (() => {\n",
              "      let quickchartButtonEl =\n",
              "        document.querySelector('#df-a1313361-a84e-4917-b829-f8c863f445b7 button');\n",
              "      quickchartButtonEl.style.display =\n",
              "        google.colab.kernel.accessAllowed ? 'block' : 'none';\n",
              "    })();\n",
              "  </script>\n",
              "</div>\n",
              "\n",
              "    </div>\n",
              "  </div>\n"
            ],
            "application/vnd.google.colaboratory.intrinsic+json": {
              "type": "dataframe",
              "variable_name": "expvida"
            }
          },
          "metadata": {},
          "execution_count": 10
        }
      ]
    },
    {
      "cell_type": "markdown",
      "metadata": {
        "id": "99b7sMhZScj_"
      },
      "source": [
        "7) Y ahora las 10 ultimas."
      ]
    },
    {
      "cell_type": "code",
      "metadata": {
        "id": "yaMMoHc7Scj_",
        "colab": {
          "base_uri": "https://localhost:8080/",
          "height": 464
        },
        "outputId": "23e014d0-7c8a-4129-be14-cfa7568a8421"
      },
      "source": [
        "# Inspecciono las ultimas filas\n",
        "expvida.tail(10)"
      ],
      "execution_count": 11,
      "outputs": [
        {
          "output_type": "execute_result",
          "data": {
            "text/plain": [
              "       Country  Year      Status  Life expectancy   Adult Mortality  \\\n",
              "2928  Zimbabwe  2009  Developing              50.0            587.0   \n",
              "2929  Zimbabwe  2008  Developing              48.2            632.0   \n",
              "2930  Zimbabwe  2007  Developing              46.6             67.0   \n",
              "2931  Zimbabwe  2006  Developing              45.4              7.0   \n",
              "2932  Zimbabwe  2005  Developing              44.6            717.0   \n",
              "2933  Zimbabwe  2004  Developing              44.3            723.0   \n",
              "2934  Zimbabwe  2003  Developing              44.5            715.0   \n",
              "2935  Zimbabwe  2002  Developing              44.8             73.0   \n",
              "2936  Zimbabwe  2001  Developing              45.3            686.0   \n",
              "2937  Zimbabwe  2000  Developing              46.0            665.0   \n",
              "\n",
              "      infant deaths  Alcohol  percentage expenditure  Hepatitis B  Measles   \\\n",
              "2928             30     4.64                1.040021         73.0       853   \n",
              "2929             30     3.56               20.843429         75.0         0   \n",
              "2930             29     3.88               29.814566         72.0       242   \n",
              "2931             28     4.57               34.262169         68.0       212   \n",
              "2932             28     4.14                8.717409         65.0       420   \n",
              "2933             27     4.36                0.000000         68.0        31   \n",
              "2934             26     4.06                0.000000          7.0       998   \n",
              "2935             25     4.43                0.000000         73.0       304   \n",
              "2936             25     1.72                0.000000         76.0       529   \n",
              "2937             24     1.68                0.000000         79.0      1483   \n",
              "\n",
              "      ...  Polio  Total expenditure  Diphtheria    HIV/AIDS         GDP  \\\n",
              "2928  ...   69.0               6.26         73.0       18.1   65.824121   \n",
              "2929  ...   75.0               4.96         75.0       20.5  325.678573   \n",
              "2930  ...   73.0               4.47         73.0       23.7  396.998217   \n",
              "2931  ...   71.0               5.12          7.0       26.8  414.796232   \n",
              "2932  ...   69.0               6.44         68.0       30.3  444.765750   \n",
              "2933  ...   67.0               7.13         65.0       33.6  454.366654   \n",
              "2934  ...    7.0               6.52         68.0       36.7  453.351155   \n",
              "2935  ...   73.0               6.53         71.0       39.8   57.348340   \n",
              "2936  ...   76.0               6.16         75.0       42.1  548.587312   \n",
              "2937  ...   78.0               7.10         78.0       43.5  547.358878   \n",
              "\n",
              "      Population   thinness  1-19 years   thinness 5-9 years  \\\n",
              "2928   1381599.0                    7.5                  7.4   \n",
              "2929  13558469.0                    7.8                  7.8   \n",
              "2930   1332999.0                    8.2                  8.2   \n",
              "2931  13124267.0                    8.6                  8.6   \n",
              "2932    129432.0                    9.0                  9.0   \n",
              "2933  12777511.0                    9.4                  9.4   \n",
              "2934  12633897.0                    9.8                  9.9   \n",
              "2935    125525.0                    1.2                  1.3   \n",
              "2936  12366165.0                    1.6                  1.7   \n",
              "2937  12222251.0                   11.0                 11.2   \n",
              "\n",
              "      Income composition of resources  Schooling  \n",
              "2928                            0.419        9.9  \n",
              "2929                            0.421        9.7  \n",
              "2930                            0.414        9.6  \n",
              "2931                            0.408        9.5  \n",
              "2932                            0.406        9.3  \n",
              "2933                            0.407        9.2  \n",
              "2934                            0.418        9.5  \n",
              "2935                            0.427       10.0  \n",
              "2936                            0.427        9.8  \n",
              "2937                            0.434        9.8  \n",
              "\n",
              "[10 rows x 22 columns]"
            ],
            "text/html": [
              "\n",
              "  <div id=\"df-7347449f-e34a-4483-9c6d-125c9d521923\" class=\"colab-df-container\">\n",
              "    <div>\n",
              "<style scoped>\n",
              "    .dataframe tbody tr th:only-of-type {\n",
              "        vertical-align: middle;\n",
              "    }\n",
              "\n",
              "    .dataframe tbody tr th {\n",
              "        vertical-align: top;\n",
              "    }\n",
              "\n",
              "    .dataframe thead th {\n",
              "        text-align: right;\n",
              "    }\n",
              "</style>\n",
              "<table border=\"1\" class=\"dataframe\">\n",
              "  <thead>\n",
              "    <tr style=\"text-align: right;\">\n",
              "      <th></th>\n",
              "      <th>Country</th>\n",
              "      <th>Year</th>\n",
              "      <th>Status</th>\n",
              "      <th>Life expectancy</th>\n",
              "      <th>Adult Mortality</th>\n",
              "      <th>infant deaths</th>\n",
              "      <th>Alcohol</th>\n",
              "      <th>percentage expenditure</th>\n",
              "      <th>Hepatitis B</th>\n",
              "      <th>Measles</th>\n",
              "      <th>...</th>\n",
              "      <th>Polio</th>\n",
              "      <th>Total expenditure</th>\n",
              "      <th>Diphtheria</th>\n",
              "      <th>HIV/AIDS</th>\n",
              "      <th>GDP</th>\n",
              "      <th>Population</th>\n",
              "      <th>thinness  1-19 years</th>\n",
              "      <th>thinness 5-9 years</th>\n",
              "      <th>Income composition of resources</th>\n",
              "      <th>Schooling</th>\n",
              "    </tr>\n",
              "  </thead>\n",
              "  <tbody>\n",
              "    <tr>\n",
              "      <th>2928</th>\n",
              "      <td>Zimbabwe</td>\n",
              "      <td>2009</td>\n",
              "      <td>Developing</td>\n",
              "      <td>50.0</td>\n",
              "      <td>587.0</td>\n",
              "      <td>30</td>\n",
              "      <td>4.64</td>\n",
              "      <td>1.040021</td>\n",
              "      <td>73.0</td>\n",
              "      <td>853</td>\n",
              "      <td>...</td>\n",
              "      <td>69.0</td>\n",
              "      <td>6.26</td>\n",
              "      <td>73.0</td>\n",
              "      <td>18.1</td>\n",
              "      <td>65.824121</td>\n",
              "      <td>1381599.0</td>\n",
              "      <td>7.5</td>\n",
              "      <td>7.4</td>\n",
              "      <td>0.419</td>\n",
              "      <td>9.9</td>\n",
              "    </tr>\n",
              "    <tr>\n",
              "      <th>2929</th>\n",
              "      <td>Zimbabwe</td>\n",
              "      <td>2008</td>\n",
              "      <td>Developing</td>\n",
              "      <td>48.2</td>\n",
              "      <td>632.0</td>\n",
              "      <td>30</td>\n",
              "      <td>3.56</td>\n",
              "      <td>20.843429</td>\n",
              "      <td>75.0</td>\n",
              "      <td>0</td>\n",
              "      <td>...</td>\n",
              "      <td>75.0</td>\n",
              "      <td>4.96</td>\n",
              "      <td>75.0</td>\n",
              "      <td>20.5</td>\n",
              "      <td>325.678573</td>\n",
              "      <td>13558469.0</td>\n",
              "      <td>7.8</td>\n",
              "      <td>7.8</td>\n",
              "      <td>0.421</td>\n",
              "      <td>9.7</td>\n",
              "    </tr>\n",
              "    <tr>\n",
              "      <th>2930</th>\n",
              "      <td>Zimbabwe</td>\n",
              "      <td>2007</td>\n",
              "      <td>Developing</td>\n",
              "      <td>46.6</td>\n",
              "      <td>67.0</td>\n",
              "      <td>29</td>\n",
              "      <td>3.88</td>\n",
              "      <td>29.814566</td>\n",
              "      <td>72.0</td>\n",
              "      <td>242</td>\n",
              "      <td>...</td>\n",
              "      <td>73.0</td>\n",
              "      <td>4.47</td>\n",
              "      <td>73.0</td>\n",
              "      <td>23.7</td>\n",
              "      <td>396.998217</td>\n",
              "      <td>1332999.0</td>\n",
              "      <td>8.2</td>\n",
              "      <td>8.2</td>\n",
              "      <td>0.414</td>\n",
              "      <td>9.6</td>\n",
              "    </tr>\n",
              "    <tr>\n",
              "      <th>2931</th>\n",
              "      <td>Zimbabwe</td>\n",
              "      <td>2006</td>\n",
              "      <td>Developing</td>\n",
              "      <td>45.4</td>\n",
              "      <td>7.0</td>\n",
              "      <td>28</td>\n",
              "      <td>4.57</td>\n",
              "      <td>34.262169</td>\n",
              "      <td>68.0</td>\n",
              "      <td>212</td>\n",
              "      <td>...</td>\n",
              "      <td>71.0</td>\n",
              "      <td>5.12</td>\n",
              "      <td>7.0</td>\n",
              "      <td>26.8</td>\n",
              "      <td>414.796232</td>\n",
              "      <td>13124267.0</td>\n",
              "      <td>8.6</td>\n",
              "      <td>8.6</td>\n",
              "      <td>0.408</td>\n",
              "      <td>9.5</td>\n",
              "    </tr>\n",
              "    <tr>\n",
              "      <th>2932</th>\n",
              "      <td>Zimbabwe</td>\n",
              "      <td>2005</td>\n",
              "      <td>Developing</td>\n",
              "      <td>44.6</td>\n",
              "      <td>717.0</td>\n",
              "      <td>28</td>\n",
              "      <td>4.14</td>\n",
              "      <td>8.717409</td>\n",
              "      <td>65.0</td>\n",
              "      <td>420</td>\n",
              "      <td>...</td>\n",
              "      <td>69.0</td>\n",
              "      <td>6.44</td>\n",
              "      <td>68.0</td>\n",
              "      <td>30.3</td>\n",
              "      <td>444.765750</td>\n",
              "      <td>129432.0</td>\n",
              "      <td>9.0</td>\n",
              "      <td>9.0</td>\n",
              "      <td>0.406</td>\n",
              "      <td>9.3</td>\n",
              "    </tr>\n",
              "    <tr>\n",
              "      <th>2933</th>\n",
              "      <td>Zimbabwe</td>\n",
              "      <td>2004</td>\n",
              "      <td>Developing</td>\n",
              "      <td>44.3</td>\n",
              "      <td>723.0</td>\n",
              "      <td>27</td>\n",
              "      <td>4.36</td>\n",
              "      <td>0.000000</td>\n",
              "      <td>68.0</td>\n",
              "      <td>31</td>\n",
              "      <td>...</td>\n",
              "      <td>67.0</td>\n",
              "      <td>7.13</td>\n",
              "      <td>65.0</td>\n",
              "      <td>33.6</td>\n",
              "      <td>454.366654</td>\n",
              "      <td>12777511.0</td>\n",
              "      <td>9.4</td>\n",
              "      <td>9.4</td>\n",
              "      <td>0.407</td>\n",
              "      <td>9.2</td>\n",
              "    </tr>\n",
              "    <tr>\n",
              "      <th>2934</th>\n",
              "      <td>Zimbabwe</td>\n",
              "      <td>2003</td>\n",
              "      <td>Developing</td>\n",
              "      <td>44.5</td>\n",
              "      <td>715.0</td>\n",
              "      <td>26</td>\n",
              "      <td>4.06</td>\n",
              "      <td>0.000000</td>\n",
              "      <td>7.0</td>\n",
              "      <td>998</td>\n",
              "      <td>...</td>\n",
              "      <td>7.0</td>\n",
              "      <td>6.52</td>\n",
              "      <td>68.0</td>\n",
              "      <td>36.7</td>\n",
              "      <td>453.351155</td>\n",
              "      <td>12633897.0</td>\n",
              "      <td>9.8</td>\n",
              "      <td>9.9</td>\n",
              "      <td>0.418</td>\n",
              "      <td>9.5</td>\n",
              "    </tr>\n",
              "    <tr>\n",
              "      <th>2935</th>\n",
              "      <td>Zimbabwe</td>\n",
              "      <td>2002</td>\n",
              "      <td>Developing</td>\n",
              "      <td>44.8</td>\n",
              "      <td>73.0</td>\n",
              "      <td>25</td>\n",
              "      <td>4.43</td>\n",
              "      <td>0.000000</td>\n",
              "      <td>73.0</td>\n",
              "      <td>304</td>\n",
              "      <td>...</td>\n",
              "      <td>73.0</td>\n",
              "      <td>6.53</td>\n",
              "      <td>71.0</td>\n",
              "      <td>39.8</td>\n",
              "      <td>57.348340</td>\n",
              "      <td>125525.0</td>\n",
              "      <td>1.2</td>\n",
              "      <td>1.3</td>\n",
              "      <td>0.427</td>\n",
              "      <td>10.0</td>\n",
              "    </tr>\n",
              "    <tr>\n",
              "      <th>2936</th>\n",
              "      <td>Zimbabwe</td>\n",
              "      <td>2001</td>\n",
              "      <td>Developing</td>\n",
              "      <td>45.3</td>\n",
              "      <td>686.0</td>\n",
              "      <td>25</td>\n",
              "      <td>1.72</td>\n",
              "      <td>0.000000</td>\n",
              "      <td>76.0</td>\n",
              "      <td>529</td>\n",
              "      <td>...</td>\n",
              "      <td>76.0</td>\n",
              "      <td>6.16</td>\n",
              "      <td>75.0</td>\n",
              "      <td>42.1</td>\n",
              "      <td>548.587312</td>\n",
              "      <td>12366165.0</td>\n",
              "      <td>1.6</td>\n",
              "      <td>1.7</td>\n",
              "      <td>0.427</td>\n",
              "      <td>9.8</td>\n",
              "    </tr>\n",
              "    <tr>\n",
              "      <th>2937</th>\n",
              "      <td>Zimbabwe</td>\n",
              "      <td>2000</td>\n",
              "      <td>Developing</td>\n",
              "      <td>46.0</td>\n",
              "      <td>665.0</td>\n",
              "      <td>24</td>\n",
              "      <td>1.68</td>\n",
              "      <td>0.000000</td>\n",
              "      <td>79.0</td>\n",
              "      <td>1483</td>\n",
              "      <td>...</td>\n",
              "      <td>78.0</td>\n",
              "      <td>7.10</td>\n",
              "      <td>78.0</td>\n",
              "      <td>43.5</td>\n",
              "      <td>547.358878</td>\n",
              "      <td>12222251.0</td>\n",
              "      <td>11.0</td>\n",
              "      <td>11.2</td>\n",
              "      <td>0.434</td>\n",
              "      <td>9.8</td>\n",
              "    </tr>\n",
              "  </tbody>\n",
              "</table>\n",
              "<p>10 rows × 22 columns</p>\n",
              "</div>\n",
              "    <div class=\"colab-df-buttons\">\n",
              "\n",
              "  <div class=\"colab-df-container\">\n",
              "    <button class=\"colab-df-convert\" onclick=\"convertToInteractive('df-7347449f-e34a-4483-9c6d-125c9d521923')\"\n",
              "            title=\"Convert this dataframe to an interactive table.\"\n",
              "            style=\"display:none;\">\n",
              "\n",
              "  <svg xmlns=\"http://www.w3.org/2000/svg\" height=\"24px\" viewBox=\"0 -960 960 960\">\n",
              "    <path d=\"M120-120v-720h720v720H120Zm60-500h600v-160H180v160Zm220 220h160v-160H400v160Zm0 220h160v-160H400v160ZM180-400h160v-160H180v160Zm440 0h160v-160H620v160ZM180-180h160v-160H180v160Zm440 0h160v-160H620v160Z\"/>\n",
              "  </svg>\n",
              "    </button>\n",
              "\n",
              "  <style>\n",
              "    .colab-df-container {\n",
              "      display:flex;\n",
              "      gap: 12px;\n",
              "    }\n",
              "\n",
              "    .colab-df-convert {\n",
              "      background-color: #E8F0FE;\n",
              "      border: none;\n",
              "      border-radius: 50%;\n",
              "      cursor: pointer;\n",
              "      display: none;\n",
              "      fill: #1967D2;\n",
              "      height: 32px;\n",
              "      padding: 0 0 0 0;\n",
              "      width: 32px;\n",
              "    }\n",
              "\n",
              "    .colab-df-convert:hover {\n",
              "      background-color: #E2EBFA;\n",
              "      box-shadow: 0px 1px 2px rgba(60, 64, 67, 0.3), 0px 1px 3px 1px rgba(60, 64, 67, 0.15);\n",
              "      fill: #174EA6;\n",
              "    }\n",
              "\n",
              "    .colab-df-buttons div {\n",
              "      margin-bottom: 4px;\n",
              "    }\n",
              "\n",
              "    [theme=dark] .colab-df-convert {\n",
              "      background-color: #3B4455;\n",
              "      fill: #D2E3FC;\n",
              "    }\n",
              "\n",
              "    [theme=dark] .colab-df-convert:hover {\n",
              "      background-color: #434B5C;\n",
              "      box-shadow: 0px 1px 3px 1px rgba(0, 0, 0, 0.15);\n",
              "      filter: drop-shadow(0px 1px 2px rgba(0, 0, 0, 0.3));\n",
              "      fill: #FFFFFF;\n",
              "    }\n",
              "  </style>\n",
              "\n",
              "    <script>\n",
              "      const buttonEl =\n",
              "        document.querySelector('#df-7347449f-e34a-4483-9c6d-125c9d521923 button.colab-df-convert');\n",
              "      buttonEl.style.display =\n",
              "        google.colab.kernel.accessAllowed ? 'block' : 'none';\n",
              "\n",
              "      async function convertToInteractive(key) {\n",
              "        const element = document.querySelector('#df-7347449f-e34a-4483-9c6d-125c9d521923');\n",
              "        const dataTable =\n",
              "          await google.colab.kernel.invokeFunction('convertToInteractive',\n",
              "                                                    [key], {});\n",
              "        if (!dataTable) return;\n",
              "\n",
              "        const docLinkHtml = 'Like what you see? Visit the ' +\n",
              "          '<a target=\"_blank\" href=https://colab.research.google.com/notebooks/data_table.ipynb>data table notebook</a>'\n",
              "          + ' to learn more about interactive tables.';\n",
              "        element.innerHTML = '';\n",
              "        dataTable['output_type'] = 'display_data';\n",
              "        await google.colab.output.renderOutput(dataTable, element);\n",
              "        const docLink = document.createElement('div');\n",
              "        docLink.innerHTML = docLinkHtml;\n",
              "        element.appendChild(docLink);\n",
              "      }\n",
              "    </script>\n",
              "  </div>\n",
              "\n",
              "\n",
              "<div id=\"df-627156ef-d0f5-44fd-a873-95c1e97223a1\">\n",
              "  <button class=\"colab-df-quickchart\" onclick=\"quickchart('df-627156ef-d0f5-44fd-a873-95c1e97223a1')\"\n",
              "            title=\"Suggest charts\"\n",
              "            style=\"display:none;\">\n",
              "\n",
              "<svg xmlns=\"http://www.w3.org/2000/svg\" height=\"24px\"viewBox=\"0 0 24 24\"\n",
              "     width=\"24px\">\n",
              "    <g>\n",
              "        <path d=\"M19 3H5c-1.1 0-2 .9-2 2v14c0 1.1.9 2 2 2h14c1.1 0 2-.9 2-2V5c0-1.1-.9-2-2-2zM9 17H7v-7h2v7zm4 0h-2V7h2v10zm4 0h-2v-4h2v4z\"/>\n",
              "    </g>\n",
              "</svg>\n",
              "  </button>\n",
              "\n",
              "<style>\n",
              "  .colab-df-quickchart {\n",
              "      --bg-color: #E8F0FE;\n",
              "      --fill-color: #1967D2;\n",
              "      --hover-bg-color: #E2EBFA;\n",
              "      --hover-fill-color: #174EA6;\n",
              "      --disabled-fill-color: #AAA;\n",
              "      --disabled-bg-color: #DDD;\n",
              "  }\n",
              "\n",
              "  [theme=dark] .colab-df-quickchart {\n",
              "      --bg-color: #3B4455;\n",
              "      --fill-color: #D2E3FC;\n",
              "      --hover-bg-color: #434B5C;\n",
              "      --hover-fill-color: #FFFFFF;\n",
              "      --disabled-bg-color: #3B4455;\n",
              "      --disabled-fill-color: #666;\n",
              "  }\n",
              "\n",
              "  .colab-df-quickchart {\n",
              "    background-color: var(--bg-color);\n",
              "    border: none;\n",
              "    border-radius: 50%;\n",
              "    cursor: pointer;\n",
              "    display: none;\n",
              "    fill: var(--fill-color);\n",
              "    height: 32px;\n",
              "    padding: 0;\n",
              "    width: 32px;\n",
              "  }\n",
              "\n",
              "  .colab-df-quickchart:hover {\n",
              "    background-color: var(--hover-bg-color);\n",
              "    box-shadow: 0 1px 2px rgba(60, 64, 67, 0.3), 0 1px 3px 1px rgba(60, 64, 67, 0.15);\n",
              "    fill: var(--button-hover-fill-color);\n",
              "  }\n",
              "\n",
              "  .colab-df-quickchart-complete:disabled,\n",
              "  .colab-df-quickchart-complete:disabled:hover {\n",
              "    background-color: var(--disabled-bg-color);\n",
              "    fill: var(--disabled-fill-color);\n",
              "    box-shadow: none;\n",
              "  }\n",
              "\n",
              "  .colab-df-spinner {\n",
              "    border: 2px solid var(--fill-color);\n",
              "    border-color: transparent;\n",
              "    border-bottom-color: var(--fill-color);\n",
              "    animation:\n",
              "      spin 1s steps(1) infinite;\n",
              "  }\n",
              "\n",
              "  @keyframes spin {\n",
              "    0% {\n",
              "      border-color: transparent;\n",
              "      border-bottom-color: var(--fill-color);\n",
              "      border-left-color: var(--fill-color);\n",
              "    }\n",
              "    20% {\n",
              "      border-color: transparent;\n",
              "      border-left-color: var(--fill-color);\n",
              "      border-top-color: var(--fill-color);\n",
              "    }\n",
              "    30% {\n",
              "      border-color: transparent;\n",
              "      border-left-color: var(--fill-color);\n",
              "      border-top-color: var(--fill-color);\n",
              "      border-right-color: var(--fill-color);\n",
              "    }\n",
              "    40% {\n",
              "      border-color: transparent;\n",
              "      border-right-color: var(--fill-color);\n",
              "      border-top-color: var(--fill-color);\n",
              "    }\n",
              "    60% {\n",
              "      border-color: transparent;\n",
              "      border-right-color: var(--fill-color);\n",
              "    }\n",
              "    80% {\n",
              "      border-color: transparent;\n",
              "      border-right-color: var(--fill-color);\n",
              "      border-bottom-color: var(--fill-color);\n",
              "    }\n",
              "    90% {\n",
              "      border-color: transparent;\n",
              "      border-bottom-color: var(--fill-color);\n",
              "    }\n",
              "  }\n",
              "</style>\n",
              "\n",
              "  <script>\n",
              "    async function quickchart(key) {\n",
              "      const quickchartButtonEl =\n",
              "        document.querySelector('#' + key + ' button');\n",
              "      quickchartButtonEl.disabled = true;  // To prevent multiple clicks.\n",
              "      quickchartButtonEl.classList.add('colab-df-spinner');\n",
              "      try {\n",
              "        const charts = await google.colab.kernel.invokeFunction(\n",
              "            'suggestCharts', [key], {});\n",
              "      } catch (error) {\n",
              "        console.error('Error during call to suggestCharts:', error);\n",
              "      }\n",
              "      quickchartButtonEl.classList.remove('colab-df-spinner');\n",
              "      quickchartButtonEl.classList.add('colab-df-quickchart-complete');\n",
              "    }\n",
              "    (() => {\n",
              "      let quickchartButtonEl =\n",
              "        document.querySelector('#df-627156ef-d0f5-44fd-a873-95c1e97223a1 button');\n",
              "      quickchartButtonEl.style.display =\n",
              "        google.colab.kernel.accessAllowed ? 'block' : 'none';\n",
              "    })();\n",
              "  </script>\n",
              "</div>\n",
              "\n",
              "    </div>\n",
              "  </div>\n"
            ],
            "application/vnd.google.colaboratory.intrinsic+json": {
              "type": "dataframe"
            }
          },
          "metadata": {},
          "execution_count": 11
        }
      ]
    },
    {
      "cell_type": "markdown",
      "metadata": {
        "id": "thLRW3GjSckC"
      },
      "source": [
        "8) ¿Que tipos de datos contiene cada una de las columnas de `expvida`?"
      ]
    },
    {
      "cell_type": "code",
      "metadata": {
        "id": "AfAgFAJdSckD",
        "colab": {
          "base_uri": "https://localhost:8080/"
        },
        "outputId": "5ecd33ce-f379-418a-e972-cf757fded58b"
      },
      "source": [
        "# Tipo de datos en cada columna\n",
        "expvida.dtypes"
      ],
      "execution_count": 12,
      "outputs": [
        {
          "output_type": "execute_result",
          "data": {
            "text/plain": [
              "Country                             object\n",
              "Year                                 int64\n",
              "Status                              object\n",
              "Life expectancy                    float64\n",
              "Adult Mortality                    float64\n",
              "infant deaths                        int64\n",
              "Alcohol                            float64\n",
              "percentage expenditure             float64\n",
              "Hepatitis B                        float64\n",
              "Measles                              int64\n",
              " BMI                               float64\n",
              "under-five deaths                    int64\n",
              "Polio                              float64\n",
              "Total expenditure                  float64\n",
              "Diphtheria                         float64\n",
              " HIV/AIDS                          float64\n",
              "GDP                                float64\n",
              "Population                         float64\n",
              " thinness  1-19 years              float64\n",
              " thinness 5-9 years                float64\n",
              "Income composition of resources    float64\n",
              "Schooling                          float64\n",
              "dtype: object"
            ]
          },
          "metadata": {},
          "execution_count": 12
        }
      ]
    },
    {
      "cell_type": "markdown",
      "metadata": {
        "id": "7Nsyhb7LSckG"
      },
      "source": [
        "9) ¿Hay valores faltantes en alguna de las columnas de `expvida`?"
      ]
    },
    {
      "cell_type": "code",
      "metadata": {
        "id": "DP_IgUWzSckI",
        "colab": {
          "base_uri": "https://localhost:8080/"
        },
        "outputId": "ff05db13-03a2-4e2f-d9ed-0a6d5d0e2b6c"
      },
      "source": [
        "# Obtengo la cantidad de datos faltantes en cada columna\n",
        "nulos=expvida.isnull().sum()\n",
        "print(nulos)"
      ],
      "execution_count": 14,
      "outputs": [
        {
          "output_type": "stream",
          "name": "stdout",
          "text": [
            "Country                              0\n",
            "Year                                 0\n",
            "Status                               0\n",
            "Life expectancy                     10\n",
            "Adult Mortality                     10\n",
            "infant deaths                        0\n",
            "Alcohol                            194\n",
            "percentage expenditure               0\n",
            "Hepatitis B                        553\n",
            "Measles                              0\n",
            " BMI                                34\n",
            "under-five deaths                    0\n",
            "Polio                               19\n",
            "Total expenditure                  226\n",
            "Diphtheria                          19\n",
            " HIV/AIDS                            0\n",
            "GDP                                448\n",
            "Population                         652\n",
            " thinness  1-19 years               34\n",
            " thinness 5-9 years                 34\n",
            "Income composition of resources    167\n",
            "Schooling                          163\n",
            "dtype: int64\n"
          ]
        }
      ]
    },
    {
      "cell_type": "markdown",
      "metadata": {
        "id": "Q7-bL4tlSckL"
      },
      "source": [
        "10) Selecciona el maximo de datos faltantes. Calcula que porcentaje de los datos representan los datos faltantes."
      ]
    },
    {
      "cell_type": "code",
      "metadata": {
        "id": "gicdHYh0SckM",
        "colab": {
          "base_uri": "https://localhost:8080/"
        },
        "outputId": "18b74d9e-fed0-4459-f3f5-55dc920e0069"
      },
      "source": [
        "# Obtengo el maximo valor de datos faltantes y lo guardo en la variable masnan\n",
        "masnan=nulos.max()\n",
        "print(masnan)"
      ],
      "execution_count": 15,
      "outputs": [
        {
          "output_type": "stream",
          "name": "stdout",
          "text": [
            "652\n"
          ]
        }
      ]
    },
    {
      "cell_type": "code",
      "metadata": {
        "id": "RuRgzIFBSckT"
      },
      "source": [
        "# Obtengo la cantidad de filas total y divido el maximo valor de datos faltantes por este numero\n",
        "# y lo multiplico por 100\n",
        "porcentaje=masnan/len(expvida)*100"
      ],
      "execution_count": 20,
      "outputs": []
    },
    {
      "cell_type": "code",
      "metadata": {
        "id": "1NIY9qQBSckX"
      },
      "source": [
        "# Imprimo el maximo porcentaje de datos faltantes. Uso f-strings.\n"
      ],
      "execution_count": 21,
      "outputs": []
    },
    {
      "cell_type": "markdown",
      "metadata": {
        "id": "r0ukORx9Sckg"
      },
      "source": [
        "- str.format()\n",
        "- Template Class\n",
        "- f-strings"
      ]
    },
    {
      "cell_type": "markdown",
      "metadata": {
        "id": "hUXqdma_Sckj"
      },
      "source": [
        "#### Ahora vamos a realizar algunos calculos y manipulaciones sobre las columnas."
      ]
    },
    {
      "cell_type": "markdown",
      "metadata": {
        "id": "eBzg8GYGSckk"
      },
      "source": [
        "Una función útil para este fin es: `.rename()`. Y podemos utilizarla de la siguiente manera: Si `df` es mi DataFrame y quiero renombrar la columna `columna` como `columna1`, y la columna `columna2` como `columna3`, utilizo la siguiente sintaxis:\n",
        "  \n",
        "`df.rename(columns={\"columna\": \"columna1\", \"columna2\": \"columna3\"}, inplace=True)`"
      ]
    },
    {
      "cell_type": "markdown",
      "metadata": {
        "id": "EYINiSHdSckl"
      },
      "source": [
        "11) Renombra la columna 'Life expectancy ' como 'life_expectancy', ' BMI ' como 'bmi' y ''Measles ' como 'measles'. No olvides de usar `inplace` para modificar el DataFrame original. Luego chequea que el cambio se haya hecho correctamente."
      ]
    },
    {
      "cell_type": "code",
      "metadata": {
        "id": "TL4b2ueXSckm"
      },
      "source": [
        "# Renombro columnas del DataFrame\n"
      ],
      "execution_count": null,
      "outputs": []
    },
    {
      "cell_type": "code",
      "metadata": {
        "id": "r1RVoERMSckp"
      },
      "source": [
        "# Chequeo que se hayan reemplazado correctamente\n"
      ],
      "execution_count": null,
      "outputs": []
    },
    {
      "cell_type": "markdown",
      "metadata": {
        "id": "cNXpOsdiScks"
      },
      "source": [
        "12) ¿Cual es el promedio de expectativa de vida (Life expectancy) en general?"
      ]
    },
    {
      "cell_type": "code",
      "metadata": {
        "id": "OYv3yiXmSckt"
      },
      "source": [
        "# Obtengo el promedio de la columna\n"
      ],
      "execution_count": null,
      "outputs": []
    },
    {
      "cell_type": "markdown",
      "metadata": {
        "id": "A-bzQhFqSckw"
      },
      "source": [
        "13) ¿Cual es el promedio de expectativa de vida (Life expectancy) por país?"
      ]
    },
    {
      "cell_type": "code",
      "metadata": {
        "id": "eWN_AJPMSckx"
      },
      "source": [
        "# Obtengo el promedio por pais\n"
      ],
      "execution_count": null,
      "outputs": []
    },
    {
      "cell_type": "markdown",
      "metadata": {
        "id": "YIopZIPrSck0"
      },
      "source": [
        "14) ¿Cual es la expectativa de vida mas alta y mas baja? Usa la funcion de pandas y la funcion de NumPy y compara el resultado. ¿Que paises tienen esas expectativas de vida?"
      ]
    },
    {
      "cell_type": "code",
      "metadata": {
        "id": "gU8js5J8Sck0"
      },
      "source": [
        "# Maxima expectativa de vida usando numpy\n"
      ],
      "execution_count": null,
      "outputs": []
    },
    {
      "cell_type": "code",
      "metadata": {
        "id": "_JyNdRuESck2"
      },
      "source": [
        "# Maxima expectativa de vida usando pandas\n"
      ],
      "execution_count": null,
      "outputs": []
    },
    {
      "cell_type": "code",
      "metadata": {
        "id": "pTCZ9VJXSck4"
      },
      "source": [
        "# Minima expectativa de vida usando numpy\n"
      ],
      "execution_count": null,
      "outputs": []
    },
    {
      "cell_type": "code",
      "metadata": {
        "id": "BbJ9nW_LSck6"
      },
      "source": [
        "# Minima expectativa de vida usando pandas\n"
      ],
      "execution_count": null,
      "outputs": []
    },
    {
      "cell_type": "code",
      "metadata": {
        "id": "R83PS8f8Sck8"
      },
      "source": [
        "# Muestro los resultados maximos\n"
      ],
      "execution_count": null,
      "outputs": []
    },
    {
      "cell_type": "code",
      "metadata": {
        "id": "jUZlYu3BSck_"
      },
      "source": [
        "# Muestro los resultados minimos\n"
      ],
      "execution_count": null,
      "outputs": []
    },
    {
      "cell_type": "code",
      "metadata": {
        "id": "et_RZ44GSclB"
      },
      "source": [
        "# Filtro las columnas para mostrar solo las filas que tengan valor\n",
        "# igual al maximo\n"
      ],
      "execution_count": null,
      "outputs": []
    },
    {
      "cell_type": "code",
      "metadata": {
        "id": "IQnm1-44SclE"
      },
      "source": [
        "# Filtro las columnas para mostrar solo las filas que tengan valor\n",
        "# igual al minimo\n"
      ],
      "execution_count": null,
      "outputs": []
    },
    {
      "cell_type": "markdown",
      "metadata": {
        "id": "mk_q0UUdSclq"
      },
      "source": [
        "15) ¿Cuantas categorias encontramos en la columna \"Status\"? _**Pista**_: Lee acerca de la función [unique()](http://pandas.pydata.org/pandas-docs/stable/reference/api/pandas.Series.unique.html?highlight=unique#pandas.Series.unique)"
      ]
    },
    {
      "cell_type": "code",
      "metadata": {
        "id": "HA2tDgWVSclq"
      },
      "source": [
        "# Obtengo los valores unicos de la columna status\n"
      ],
      "execution_count": null,
      "outputs": []
    },
    {
      "cell_type": "markdown",
      "source": [],
      "metadata": {
        "id": "WiIxLWFOIVWS"
      }
    },
    {
      "cell_type": "markdown",
      "metadata": {
        "id": "ps0WfRElSclu"
      },
      "source": [
        "16) ¿Cuantos paises se ubican en cada una de esas categorias de \"Status\"? _**Pista**_: Lee acerca de la función [value_counts()](http://pandas.pydata.org/pandas-docs/stable/reference/api/pandas.Series.value_counts.html)"
      ]
    },
    {
      "cell_type": "code",
      "metadata": {
        "id": "a8zkd7TTSclw"
      },
      "source": [
        "# Cuento cuantos valores hay de cada categoria\n"
      ],
      "execution_count": null,
      "outputs": []
    },
    {
      "cell_type": "markdown",
      "metadata": {
        "id": "IFvTsLnQSclz"
      },
      "source": [
        "18) ¿Cuantos paises presentaron algun caso de Sarampion (**Measles**) en el 2015? **_Pista_**: Lee acerca de la función [.count()](http://pandas.pydata.org/pandas-docs/stable/reference/api/pandas.DataFrame.count.html?highlight=count#pandas.DataFrame.count)"
      ]
    },
    {
      "cell_type": "code",
      "metadata": {
        "id": "qOyyukGmSclz"
      },
      "source": [
        "# Cuento cuantas filas tienen valores distintos de cero\n"
      ],
      "execution_count": null,
      "outputs": []
    },
    {
      "cell_type": "code",
      "metadata": {
        "id": "aFaOi_mmScl2"
      },
      "source": [],
      "execution_count": null,
      "outputs": []
    }
  ]
}